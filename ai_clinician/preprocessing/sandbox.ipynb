{
 "cells": [
  {
   "cell_type": "code",
   "execution_count": 1,
   "metadata": {},
   "outputs": [
    {
     "name": "stdout",
     "output_type": "stream",
     "text": [
      "Before filtering: 32608 ICU stays\n"
     ]
    }
   ],
   "source": [
    "from utils import load_csv\n",
    "from columns import *\n",
    "\n",
    "df = load_csv(\"../data/intermediates/sepsis_cohort/states_and_actions_filled.csv\")\n",
    "\n",
    "print(\"Before filtering:\", len(set(df[C_ICUSTAYID])), \"ICU stays\")  # count before"
   ]
  },
  {
   "cell_type": "code",
   "execution_count": 2,
   "metadata": {},
   "outputs": [
    {
     "data": {
      "text/html": [
       "<div>\n",
       "<style scoped>\n",
       "    .dataframe tbody tr th:only-of-type {\n",
       "        vertical-align: middle;\n",
       "    }\n",
       "\n",
       "    .dataframe tbody tr th {\n",
       "        vertical-align: top;\n",
       "    }\n",
       "\n",
       "    .dataframe thead th {\n",
       "        text-align: right;\n",
       "    }\n",
       "</style>\n",
       "<table border=\"1\" class=\"dataframe\">\n",
       "  <thead>\n",
       "    <tr style=\"text-align: right;\">\n",
       "      <th></th>\n",
       "      <th>morta_90</th>\n",
       "      <th>max_dose_vaso</th>\n",
       "      <th>SOFA</th>\n",
       "      <th>num_blocs</th>\n",
       "      <th>bloc</th>\n",
       "      <th>last_vaso</th>\n",
       "      <th>last_SOFA</th>\n",
       "    </tr>\n",
       "    <tr>\n",
       "      <th>icustayid</th>\n",
       "      <th></th>\n",
       "      <th></th>\n",
       "      <th></th>\n",
       "      <th></th>\n",
       "      <th></th>\n",
       "      <th></th>\n",
       "      <th></th>\n",
       "    </tr>\n",
       "  </thead>\n",
       "  <tbody>\n",
       "    <tr>\n",
       "      <th>30000153</th>\n",
       "      <td>0</td>\n",
       "      <td>NaN</td>\n",
       "      <td>2</td>\n",
       "      <td>1</td>\n",
       "      <td>1</td>\n",
       "      <td>NaN</td>\n",
       "      <td>2</td>\n",
       "    </tr>\n",
       "    <tr>\n",
       "      <th>30000484</th>\n",
       "      <td>1</td>\n",
       "      <td>0.050</td>\n",
       "      <td>4</td>\n",
       "      <td>10</td>\n",
       "      <td>10</td>\n",
       "      <td>0.016</td>\n",
       "      <td>3</td>\n",
       "    </tr>\n",
       "    <tr>\n",
       "      <th>30000646</th>\n",
       "      <td>1</td>\n",
       "      <td>NaN</td>\n",
       "      <td>2</td>\n",
       "      <td>16</td>\n",
       "      <td>16</td>\n",
       "      <td>NaN</td>\n",
       "      <td>1</td>\n",
       "    </tr>\n",
       "    <tr>\n",
       "      <th>30001148</th>\n",
       "      <td>0</td>\n",
       "      <td>0.225</td>\n",
       "      <td>3</td>\n",
       "      <td>7</td>\n",
       "      <td>7</td>\n",
       "      <td>NaN</td>\n",
       "      <td>1</td>\n",
       "    </tr>\n",
       "    <tr>\n",
       "      <th>30001446</th>\n",
       "      <td>0</td>\n",
       "      <td>0.080</td>\n",
       "      <td>9</td>\n",
       "      <td>8</td>\n",
       "      <td>8</td>\n",
       "      <td>NaN</td>\n",
       "      <td>8</td>\n",
       "    </tr>\n",
       "    <tr>\n",
       "      <th>...</th>\n",
       "      <td>...</td>\n",
       "      <td>...</td>\n",
       "      <td>...</td>\n",
       "      <td>...</td>\n",
       "      <td>...</td>\n",
       "      <td>...</td>\n",
       "      <td>...</td>\n",
       "    </tr>\n",
       "    <tr>\n",
       "      <th>39996783</th>\n",
       "      <td>1</td>\n",
       "      <td>2.252</td>\n",
       "      <td>3</td>\n",
       "      <td>1</td>\n",
       "      <td>1</td>\n",
       "      <td>2.252</td>\n",
       "      <td>3</td>\n",
       "    </tr>\n",
       "    <tr>\n",
       "      <th>39996867</th>\n",
       "      <td>0</td>\n",
       "      <td>NaN</td>\n",
       "      <td>5</td>\n",
       "      <td>9</td>\n",
       "      <td>9</td>\n",
       "      <td>NaN</td>\n",
       "      <td>2</td>\n",
       "    </tr>\n",
       "    <tr>\n",
       "      <th>39998622</th>\n",
       "      <td>0</td>\n",
       "      <td>NaN</td>\n",
       "      <td>6</td>\n",
       "      <td>8</td>\n",
       "      <td>8</td>\n",
       "      <td>NaN</td>\n",
       "      <td>2</td>\n",
       "    </tr>\n",
       "    <tr>\n",
       "      <th>39998871</th>\n",
       "      <td>0</td>\n",
       "      <td>0.090</td>\n",
       "      <td>4</td>\n",
       "      <td>5</td>\n",
       "      <td>5</td>\n",
       "      <td>NaN</td>\n",
       "      <td>0</td>\n",
       "    </tr>\n",
       "    <tr>\n",
       "      <th>39999172</th>\n",
       "      <td>0</td>\n",
       "      <td>NaN</td>\n",
       "      <td>3</td>\n",
       "      <td>9</td>\n",
       "      <td>9</td>\n",
       "      <td>NaN</td>\n",
       "      <td>3</td>\n",
       "    </tr>\n",
       "  </tbody>\n",
       "</table>\n",
       "<p>32608 rows × 7 columns</p>\n",
       "</div>"
      ],
      "text/plain": [
       "           morta_90  max_dose_vaso  SOFA  num_blocs  bloc  last_vaso  \\\n",
       "icustayid                                                              \n",
       "30000153          0            NaN     2          1     1        NaN   \n",
       "30000484          1          0.050     4         10    10      0.016   \n",
       "30000646          1            NaN     2         16    16        NaN   \n",
       "30001148          0          0.225     3          7     7        NaN   \n",
       "30001446          0          0.080     9          8     8        NaN   \n",
       "...             ...            ...   ...        ...   ...        ...   \n",
       "39996783          1          2.252     3          1     1      2.252   \n",
       "39996867          0            NaN     5          9     9        NaN   \n",
       "39998622          0            NaN     6          8     8        NaN   \n",
       "39998871          0          0.090     4          5     5        NaN   \n",
       "39999172          0            NaN     3          9     9        NaN   \n",
       "\n",
       "           last_SOFA  \n",
       "icustayid             \n",
       "30000153           2  \n",
       "30000484           3  \n",
       "30000646           1  \n",
       "30001148           1  \n",
       "30001446           8  \n",
       "...              ...  \n",
       "39996783           3  \n",
       "39996867           2  \n",
       "39998622           2  \n",
       "39998871           0  \n",
       "39999172           3  \n",
       "\n",
       "[32608 rows x 7 columns]"
      ]
     },
     "execution_count": 2,
     "metadata": {},
     "output_type": "execute_result"
    }
   ],
   "source": [
    "# #### exclude early deaths from possible withdrawals ####\n",
    "# stats per patient\n",
    "q = df[C_BLOC] == 1\n",
    "# fence_posts=find(q(:,1)==1);\n",
    "num_of_trials = len(set(df[C_ICUSTAYID]))  # size(fence_posts,1);\n",
    "a = df[[C_BLOC, C_ICUSTAYID, C_MORTA_90, C_MAX_DOSE_VASO, C_SOFA]]\n",
    "grouped = a.groupby(C_ICUSTAYID)\n",
    "d = pd.merge(grouped.agg('max'),\n",
    "             grouped.size().rename(C_NUM_BLOCS),\n",
    "             how='left',\n",
    "             left_index=True,\n",
    "             right_index=True).drop(C_BLOC, axis=1)\n",
    "last_bloc = a.sort_values(C_BLOC, ascending=False).drop_duplicates(C_ICUSTAYID).rename({\n",
    "    C_MAX_DOSE_VASO: C_LAST_VASO,\n",
    "    C_SOFA: C_LAST_SOFA\n",
    "}, axis=1).drop(C_MORTA_90, axis=1)\n",
    "d = pd.merge(d,\n",
    "             last_bloc,\n",
    "             how='left',\n",
    "             left_index=True,\n",
    "             right_on=C_ICUSTAYID).set_index(C_ICUSTAYID, drop=True)\n",
    "# d['GroupCount'] = a.groupby(C_ICUSTAYID).size().reset_index(drop=True)\n",
    "# print(a.groupby(C_ICUSTAYID).size().index)\n",
    "# print(d.index)\n",
    "# d['last_max_dose_vaso'] = a.groupby(C_ICUSTAYID).agg({C_MAX_DOSE_VASO: 'last'})[C_MAX_DOSE_VASO].reset_index(drop=True)\n",
    "d"
   ]
  },
  {
   "cell_type": "code",
   "execution_count": 4,
   "metadata": {},
   "outputs": [
    {
     "name": "stdout",
     "output_type": "stream",
     "text": [
      "189 stays to remove because treatment was stopped and patient died\n"
     ]
    }
   ],
   "source": [
    "stopped_treatment = d[\n",
    "    (d[C_MORTA_90] == 1) & \n",
    "    (pd.isna(d[C_LAST_VASO]) | (d[C_LAST_VASO] < 0.01)) &\n",
    "    (d[C_MAX_DOSE_VASO] > 0.3) &\n",
    "    (d[C_LAST_SOFA] >= d[C_SOFA] / 2) &\n",
    "    (d[C_NUM_BLOCS] < 20)\n",
    "].index\n",
    "print(len(stopped_treatment), \"stays to remove because treatment was stopped and patient died\")\n",
    "\n",
    "df = df[~df[C_ICUSTAYID].isin(stopped_treatment)]"
   ]
  },
  {
   "cell_type": "code",
   "execution_count": 14,
   "metadata": {},
   "outputs": [
    {
     "name": "stderr",
     "output_type": "stream",
     "text": [
      "  0%|          | 83/32608 [00:10<1:08:58,  7.86it/s]\n"
     ]
    },
    {
     "ename": "KeyboardInterrupt",
     "evalue": "",
     "output_type": "error",
     "traceback": [
      "\u001b[0;31m---------------------------------------------------------------------------\u001b[0m",
      "\u001b[0;31mKeyboardInterrupt\u001b[0m                         Traceback (most recent call last)",
      "\u001b[0;32m/var/folders/gj/cy6x5zxs74j__yh6fwqs72500000gp/T/ipykernel_96231/1653463997.py\u001b[0m in \u001b[0;36m<module>\u001b[0;34m\u001b[0m\n\u001b[1;32m      8\u001b[0m     \u001b[0;32mif\u001b[0m \u001b[0mrow\u001b[0m\u001b[0;34m[\u001b[0m\u001b[0mC_MORTA_90\u001b[0m\u001b[0;34m]\u001b[0m \u001b[0;34m==\u001b[0m \u001b[0;36m1\u001b[0m\u001b[0;34m:\u001b[0m\u001b[0;34m\u001b[0m\u001b[0;34m\u001b[0m\u001b[0m\n\u001b[1;32m      9\u001b[0m         \u001b[0mii\u001b[0m \u001b[0;34m=\u001b[0m \u001b[0;34m(\u001b[0m\u001b[0mdf\u001b[0m\u001b[0;34m.\u001b[0m\u001b[0micustayid\u001b[0m \u001b[0;34m==\u001b[0m \u001b[0mrow\u001b[0m\u001b[0;34m.\u001b[0m\u001b[0mname\u001b[0m\u001b[0;34m)\u001b[0m \u001b[0;34m&\u001b[0m \u001b[0;34m(\u001b[0m\u001b[0mdf\u001b[0m\u001b[0;34m.\u001b[0m\u001b[0mbloc\u001b[0m \u001b[0;34m==\u001b[0m \u001b[0mrow\u001b[0m\u001b[0;34m[\u001b[0m\u001b[0;34m'GroupCount'\u001b[0m\u001b[0;34m]\u001b[0m\u001b[0;34m)\u001b[0m  \u001b[0;31m# last row for this patient\u001b[0m\u001b[0;34m\u001b[0m\u001b[0;34m\u001b[0m\u001b[0m\n\u001b[0;32m---> 10\u001b[0;31m         \u001b[0;32mif\u001b[0m \u001b[0msum\u001b[0m\u001b[0;34m(\u001b[0m\u001b[0mii\u001b[0m\u001b[0;34m)\u001b[0m \u001b[0;34m>\u001b[0m \u001b[0;36m0\u001b[0m\u001b[0;34m:\u001b[0m\u001b[0;34m\u001b[0m\u001b[0;34m\u001b[0m\u001b[0m\n\u001b[0m\u001b[1;32m     11\u001b[0m             e.loc[i, 0] = ((df.max_dose_vaso[ii].values.tolist()[0] == 0) & (row[C_MAX_DOSE_VASO] > 0.3) & (\n\u001b[1;32m     12\u001b[0m                         df.SOFA[ii].values.tolist()[0] >= row[C_SOFA] / 2))\n",
      "\u001b[0;32m~/anaconda3/envs/treatment-tree/lib/python3.8/site-packages/pandas/core/arrays/masked.py\u001b[0m in \u001b[0;36m__iter__\u001b[0;34m(self)\u001b[0m\n\u001b[1;32m    201\u001b[0m                 \u001b[0;32myield\u001b[0m \u001b[0mself\u001b[0m\u001b[0;34m.\u001b[0m\u001b[0mdtype\u001b[0m\u001b[0;34m.\u001b[0m\u001b[0mna_value\u001b[0m\u001b[0;34m\u001b[0m\u001b[0;34m\u001b[0m\u001b[0m\n\u001b[1;32m    202\u001b[0m             \u001b[0;32melse\u001b[0m\u001b[0;34m:\u001b[0m\u001b[0;34m\u001b[0m\u001b[0;34m\u001b[0m\u001b[0m\n\u001b[0;32m--> 203\u001b[0;31m                 \u001b[0;32myield\u001b[0m \u001b[0mself\u001b[0m\u001b[0;34m.\u001b[0m\u001b[0m_data\u001b[0m\u001b[0;34m[\u001b[0m\u001b[0mi\u001b[0m\u001b[0;34m]\u001b[0m\u001b[0;34m\u001b[0m\u001b[0;34m\u001b[0m\u001b[0m\n\u001b[0m\u001b[1;32m    204\u001b[0m \u001b[0;34m\u001b[0m\u001b[0m\n\u001b[1;32m    205\u001b[0m     \u001b[0;32mdef\u001b[0m \u001b[0m__len__\u001b[0m\u001b[0;34m(\u001b[0m\u001b[0mself\u001b[0m\u001b[0;34m)\u001b[0m \u001b[0;34m->\u001b[0m \u001b[0mint\u001b[0m\u001b[0;34m:\u001b[0m\u001b[0;34m\u001b[0m\u001b[0;34m\u001b[0m\u001b[0m\n",
      "\u001b[0;31mKeyboardInterrupt\u001b[0m: "
     ]
    }
   ],
   "source": [
    "# finds patients who match our criteria\n",
    "# todo make more efficient (VS)\n",
    "from tqdm import tqdm\n",
    "\n",
    "e = pd.DataFrame([False] * num_of_trials)\n",
    "for i in tqdm(range(num_of_trials)):\n",
    "    row = d.iloc[i]\n",
    "    if row[C_MORTA_90] == 1:\n",
    "        ii = (df.icustayid == row.name) & (df.bloc == row['GroupCount'])  # last row for this patient\n",
    "        if sum(ii) > 0:\n",
    "            e.loc[i, 0] = ((df.max_dose_vaso[ii].values.tolist()[0] == 0) & (row[C_MAX_DOSE_VASO] > 0.3) & (\n",
    "                        df.SOFA[ii].values.tolist()[0] >= row[C_SOFA] / 2))\n",
    "        else:\n",
    "            e.loc[i, 0] = False\n",
    "    if i == 100: break\n",
    "r = d.id[e[0] & (d.GroupCount < 20)]  # ids to be removed\n",
    "# ii=ismember(reformat4t.icustayid,r)\n"
   ]
  },
  {
   "cell_type": "code",
   "execution_count": 5,
   "metadata": {},
   "outputs": [
    {
     "name": "stdout",
     "output_type": "stream",
     "text": [
      "1111 patients to remove because died in ICU during data collection\n",
      "31308 ICU stays after filtering\n"
     ]
    }
   ],
   "source": [
    "# exclude patients who died in ICU during data collection period\n",
    "died_in_icu = df[\n",
    "    (df[C_DIED_WITHIN_48H_OF_OUT_TIME] == 1) &\n",
    "    (df[C_DELAY_END_OF_RECORD_AND_DISCHARGE_OR_DEATH] < 24)\n",
    "][C_ICUSTAYID].unique()\n",
    "print(len(died_in_icu), \"patients to remove because died in ICU during data collection\")\n",
    "df = df[~df[C_ICUSTAYID].isin(died_in_icu)]\n",
    "\n",
    "print(len(set(df[C_ICUSTAYID])), \"ICU stays after filtering\")  # count after\n",
    "\n",
    "\n",
    "\n",
    "# print(\"Write\")\n",
    "# df.to_csv(args.output, index=False, float_format='%g')\n"
   ]
  },
  {
   "cell_type": "code",
   "execution_count": 6,
   "metadata": {},
   "outputs": [
    {
     "data": {
      "text/plain": [
       "0           NaN\n",
       "1           NaN\n",
       "2           NaN\n",
       "3             1\n",
       "4          True\n",
       "           ... \n",
       "2727819       1\n",
       "2727820     NaN\n",
       "2727821     NaN\n",
       "2727822     NaN\n",
       "2727823       1\n",
       "Name: mechvent, Length: 2727824, dtype: object"
      ]
     },
     "execution_count": 6,
     "metadata": {},
     "output_type": "execute_result"
    }
   ],
   "source": [
    "states = pd.read_csv(\"../data/intermediates/mdp/patient_states.csv\")\n",
    "states[\"mechvent\"]"
   ]
  },
  {
   "cell_type": "code",
   "execution_count": null,
   "metadata": {},
   "outputs": [],
   "source": []
  }
 ],
 "metadata": {
  "interpreter": {
   "hash": "fc8d1268e47ddbf55b63f120bbeeb849f9edaa0c97651ed13ba6dfb7045fe227"
  },
  "kernelspec": {
   "display_name": "Python 3.8.12 64-bit ('treatment-tree': conda)",
   "language": "python",
   "name": "python3"
  },
  "language_info": {
   "codemirror_mode": {
    "name": "ipython",
    "version": 3
   },
   "file_extension": ".py",
   "mimetype": "text/x-python",
   "name": "python",
   "nbconvert_exporter": "python",
   "pygments_lexer": "ipython3",
   "version": "3.8.12"
  },
  "orig_nbformat": 4
 },
 "nbformat": 4,
 "nbformat_minor": 2
}
